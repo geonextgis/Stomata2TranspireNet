{
 "cells": [
  {
   "cell_type": "code",
   "execution_count": 1,
   "id": "dcdeee19",
   "metadata": {},
   "outputs": [],
   "source": [
    "import numpy as np\n",
    "import pandas as pd\n",
    "import matplotlib.pyplot as plt\n",
    "import os\n",
    "from glob import glob\n",
    "from tqdm import tqdm\n",
    "from PIL import Image\n",
    "import torch\n",
    "from torch import nn\n",
    "import torchvision\n",
    "from torch.utils.data import Dataset, DataLoader\n",
    "from torchvision import transforms\n",
    "from dataset import StomataDataset\n",
    "from model import CNNLSTMRegressor\n",
    "from train import train_model, MultiMSELoss\n",
    "\n",
    "device = 'cuda' if torch.cuda.is_available() else 'cpu'"
   ]
  },
  {
   "cell_type": "code",
   "execution_count": 2,
   "id": "61512b45",
   "metadata": {},
   "outputs": [],
   "source": [
    "image_dir = r'D:\\GITHUB\\MSM-Research\\Stomata2TranspireNet\\data\\raw\\image'\n",
    "meta_dir = r'D:\\GITHUB\\MSM-Research\\Stomata2TranspireNet\\data\\processed\\information.csv'\n",
    "weather_dir = r'D:\\GITHUB\\MSM-Research\\Stomata2TranspireNet\\data\\processed\\weather_data.csv'"
   ]
  },
  {
   "cell_type": "code",
   "execution_count": 3,
   "id": "1e0ec353",
   "metadata": {},
   "outputs": [],
   "source": [
    "manual_tansforms = transforms.Compose(\n",
    "    [\n",
    "        transforms.Resize((888, 1920)),\n",
    "        transforms.ToTensor()\n",
    "    ]\n",
    ")\n",
    "\n",
    "dataset = StomataDataset(image_dir, meta_dir, weather_dir, transform=manual_tansforms)"
   ]
  },
  {
   "cell_type": "code",
   "execution_count": 4,
   "id": "96391869",
   "metadata": {},
   "outputs": [],
   "source": [
    "model = CNNLSTMRegressor(weather_input_size=34, lstm_hidden_size=64).to(device)"
   ]
  },
  {
   "cell_type": "code",
   "execution_count": null,
   "id": "78e661d7",
   "metadata": {},
   "outputs": [
    {
     "name": "stderr",
     "output_type": "stream",
     "text": [
      "Epoch 1 - Training:  30%|███       | 13/43 [03:46<08:42, 17.42s/it]"
     ]
    }
   ],
   "source": [
    "train_model(model, dataset, batch_size=8, epochs=5, patience=10, lr=1e-4, \n",
    "            model_path=\"best_model.pt\", log_path=\"train.log\")"
   ]
  }
 ],
 "metadata": {
  "kernelspec": {
   "display_name": "py312",
   "language": "python",
   "name": "python3"
  },
  "language_info": {
   "codemirror_mode": {
    "name": "ipython",
    "version": 3
   },
   "file_extension": ".py",
   "mimetype": "text/x-python",
   "name": "python",
   "nbconvert_exporter": "python",
   "pygments_lexer": "ipython3",
   "version": "3.12.3"
  }
 },
 "nbformat": 4,
 "nbformat_minor": 5
}
