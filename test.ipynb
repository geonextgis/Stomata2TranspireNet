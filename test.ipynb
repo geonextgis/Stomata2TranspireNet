{
 "cells": [
  {
   "cell_type": "code",
   "execution_count": 46,
   "id": "dcdeee19",
   "metadata": {},
   "outputs": [],
   "source": [
    "import numpy as np\n",
    "import pandas as pd\n",
    "import os\n",
    "from glob import glob\n",
    "from tqdm import tqdm\n",
    "from PIL import Image\n",
    "import torch\n",
    "import torchvision\n",
    "from torch.utils.data import Dataset, DataLoader\n",
    "from torchvision import transforms\n",
    "from dataset import StomataDataset"
   ]
  },
  {
   "cell_type": "code",
   "execution_count": 47,
   "id": "61512b45",
   "metadata": {},
   "outputs": [],
   "source": [
    "image_dir = r'D:\\GITHUB\\MSM-Research\\Stomata2TranspireNet\\data\\raw\\image'\n",
    "meta_dir = r'D:\\GITHUB\\MSM-Research\\Stomata2TranspireNet\\data\\processed\\information.csv'\n",
    "weather_dir = r'D:\\GITHUB\\MSM-Research\\Stomata2TranspireNet\\data\\processed\\weather_data.csv'"
   ]
  },
  {
   "cell_type": "code",
   "execution_count": 48,
   "id": "1e0ec353",
   "metadata": {},
   "outputs": [],
   "source": [
    "manual_tansforms = transforms.Compose(\n",
    "    [\n",
    "        transforms.Resize((888, 1920)),\n",
    "        transforms.ToTensor()\n",
    "    ]\n",
    ")\n",
    "\n",
    "dataset = StomataDataset(image_dir, meta_dir, weather_dir, transform=manual_tansforms)\n",
    "train_dataloader = DataLoader(dataset, batch_size=32, shuffle=True)"
   ]
  },
  {
   "cell_type": "code",
   "execution_count": 51,
   "id": "0835dc3b",
   "metadata": {},
   "outputs": [
    {
     "name": "stdout",
     "output_type": "stream",
     "text": [
      "torch.Size([3, 888, 1920]) (48, 35) 0.224415 2.914877\n",
      "torch.Size([3, 888, 1920]) (48, 35) 0.20035 2.915647\n",
      "torch.Size([3, 888, 1920]) (48, 35) 0.173362 2.915294\n",
      "torch.Size([3, 888, 1920]) (48, 35) 0.065583 2.915425\n",
      "torch.Size([3, 888, 1920]) (48, 35) 0.095736 2.916392\n",
      "torch.Size([3, 888, 1920]) (48, 35) 0.028166 2.916533\n",
      "torch.Size([3, 888, 1920]) (48, 35) 0.201855 2.917293\n",
      "torch.Size([3, 888, 1920]) (48, 35) 0.1472 2.915132\n",
      "torch.Size([3, 888, 1920]) (48, 35) 0.257294 2.916429\n",
      "torch.Size([3, 888, 1920]) (48, 35) 0.349374 2.916162\n"
     ]
    }
   ],
   "source": [
    "for i in range(10):\n",
    "    a, b, c, d = dataset.__getitem__(i)\n",
    "    print(a.shape, b.shape, c, d)"
   ]
  }
 ],
 "metadata": {
  "kernelspec": {
   "display_name": "py312",
   "language": "python",
   "name": "python3"
  },
  "language_info": {
   "codemirror_mode": {
    "name": "ipython",
    "version": 3
   },
   "file_extension": ".py",
   "mimetype": "text/x-python",
   "name": "python",
   "nbconvert_exporter": "python",
   "pygments_lexer": "ipython3",
   "version": "3.12.3"
  }
 },
 "nbformat": 4,
 "nbformat_minor": 5
}
