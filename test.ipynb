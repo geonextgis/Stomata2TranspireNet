{
 "cells": [
  {
   "cell_type": "code",
   "execution_count": 1,
   "id": "dcdeee19",
   "metadata": {},
   "outputs": [],
   "source": [
    "import numpy as np\n",
    "import pandas as pd\n",
    "import os\n",
    "from glob import glob\n",
    "from tqdm import tqdm\n",
    "from PIL import Image\n",
    "import torch\n",
    "import torchvision\n",
    "from torch.utils.data import Dataset, DataLoader\n",
    "from torchvision import transforms\n",
    "from dataset import CustomDataset"
   ]
  },
  {
   "cell_type": "code",
   "execution_count": 2,
   "id": "61512b45",
   "metadata": {},
   "outputs": [],
   "source": [
    "image_dir = r'D:\\GITHUB\\MSM-Research\\Stomata2TranspireNet\\data\\raw\\image'\n",
    "meta_dir = r'D:\\GITHUB\\MSM-Research\\Stomata2TranspireNet\\data\\processed\\information.csv'\n",
    "weather_dir = r'D:\\GITHUB\\MSM-Research\\Stomata2TranspireNet\\data\\processed\\weather_data.csv'"
   ]
  },
  {
   "cell_type": "code",
   "execution_count": 3,
   "id": "1e0ec353",
   "metadata": {},
   "outputs": [],
   "source": [
    "manual_tansforms = transforms.Compose(\n",
    "    [\n",
    "        transforms.Resize((888, 1920)),\n",
    "        transforms.ToTensor()\n",
    "    ]\n",
    ")\n",
    "\n",
    "dataset = CustomDataset(image_dir, meta_dir, weather_dir, transform=manual_tansforms)\n",
    "train_dataloader = DataLoader(dataset, batch_size=32, shuffle=True)"
   ]
  },
  {
   "cell_type": "code",
   "execution_count": 10,
   "id": "0835dc3b",
   "metadata": {},
   "outputs": [],
   "source": [
    "# for i in range(len(dataset)):\n",
    "#     a, b, c, d = dataset.__getitem__(i)\n",
    "#     print(c.shape)"
   ]
  }
 ],
 "metadata": {
  "kernelspec": {
   "display_name": "py312",
   "language": "python",
   "name": "python3"
  },
  "language_info": {
   "codemirror_mode": {
    "name": "ipython",
    "version": 3
   },
   "file_extension": ".py",
   "mimetype": "text/x-python",
   "name": "python",
   "nbconvert_exporter": "python",
   "pygments_lexer": "ipython3",
   "version": "3.12.3"
  }
 },
 "nbformat": 4,
 "nbformat_minor": 5
}
